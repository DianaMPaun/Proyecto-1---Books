{
 "cells": [
  {
   "cell_type": "code",
   "execution_count": 1,
   "id": "5f11a068",
   "metadata": {},
   "outputs": [],
   "source": [
    "\n",
    "\n",
    "from selenium import webdriver   # driver de selenium\n",
    "\n",
    "from selenium.webdriver.chrome.options import Options   # driver options\n",
    "\n",
    "from selenium.webdriver.common.by import By # By is for looking for tag, clase, id...\n",
    "\n",
    "from selenium.webdriver.common.keys import Keys  # to use keyboard\n",
    "\n",
    "import pandas as pd"
   ]
  },
  {
   "cell_type": "code",
   "execution_count": 2,
   "id": "5e406154",
   "metadata": {},
   "outputs": [],
   "source": [
    "PATH = 'driver/chromedriver'"
   ]
  },
  {
   "cell_type": "code",
   "execution_count": 3,
   "id": "84d4e77f",
   "metadata": {},
   "outputs": [],
   "source": [
    "# driver options\n",
    "opciones=Options()\n",
    "\n",
    "# remove the flag of being a robot\n",
    "opciones.add_experimental_option('excludeSwitches', ['enable-automation'])\n",
    "opciones.add_experimental_option('useAutomationExtension', False)\n",
    "\n",
    "\n",
    "# save cookies\n",
    "opciones.add_argument('user-data-dir=cookies')"
   ]
  },
  {
   "cell_type": "code",
   "execution_count": 4,
   "id": "8a054313",
   "metadata": {},
   "outputs": [],
   "source": [
    "#choose the url to scrap\n",
    "\n",
    "driver = webdriver.Chrome()\n",
    "driver.get(\"https://www.casadellibro.com/libros-mas-vendidos\") "
   ]
  },
  {
   "cell_type": "code",
   "execution_count": 6,
   "id": "19609f82",
   "metadata": {},
   "outputs": [],
   "source": [
    "driver.find_element(By.XPATH, '//*[@id=\"onetrust-accept-btn-handler\"]').click()"
   ]
  },
  {
   "cell_type": "code",
   "execution_count": 7,
   "id": "7cae3bd9",
   "metadata": {},
   "outputs": [
    {
     "data": {
      "text/plain": [
       "11"
      ]
     },
     "execution_count": 7,
     "metadata": {},
     "output_type": "execute_result"
    }
   ],
   "source": [
    "# select the book categories to scrap\n",
    "\n",
    "categories = driver.find_elements(By.CLASS_NAME, 'swiper-container')\n",
    "\n",
    "len(categories)\n"
   ]
  },
  {
   "cell_type": "code",
   "execution_count": 8,
   "id": "58cca308",
   "metadata": {},
   "outputs": [
    {
     "data": {
      "text/plain": [
       "['PREVENTA',\n",
       " 'Tapa blanda',\n",
       " 'NOVIA',\n",
       " 'ALI HAZELWOOD',\n",
       " '18,95 €',\n",
       " '5%',\n",
       " '18,00 €',\n",
       " 'VER FICHA',\n",
       " 'AÑADIR',\n",
       " 'NUEVO',\n",
       " 'Tapa blanda',\n",
       " 'TRES ENIGMAS PARA LA ORGANIZACIÓN',\n",
       " 'EDUARDO MENDOZA',\n",
       " '21,90 €',\n",
       " '5%',\n",
       " '20,80 €',\n",
       " '(2)',\n",
       " '¡ENVÍO GRATIS!',\n",
       " 'VER FICHA',\n",
       " 'AÑADIR',\n",
       " 'NUEVO',\n",
       " 'Tapa blanda',\n",
       " 'EL HIJO OLVIDADO',\n",
       " 'MIKEL SANTIAGO',\n",
       " '22,90 €',\n",
       " '5%',\n",
       " '21,75 €',\n",
       " '(2)',\n",
       " '¡ENVÍO GRATIS!',\n",
       " 'VER FICHA',\n",
       " 'AÑADIR',\n",
       " 'NUEVO',\n",
       " 'Tapa blanda',\n",
       " 'EL BARRACON DE LAS MUJERES',\n",
       " 'FERMINA CAÑAVERAS',\n",
       " '20,90 €',\n",
       " '5%',\n",
       " '19,85 €',\n",
       " '(2)',\n",
       " '¡ENVÍO GRATIS!',\n",
       " 'VER FICHA',\n",
       " 'AÑADIR',\n",
       " 'Tapa blanda',\n",
       " 'LA PACIENTE SILENCIOSA',\n",
       " 'ALEX MICHAELIDES',\n",
       " '19,90 €',\n",
       " '5%',\n",
       " '18,90 €',\n",
       " '(65)',\n",
       " '¡ENVÍO GRATIS!',\n",
       " 'VER FICHA',\n",
       " 'AÑADIR',\n",
       " 'NUEVO',\n",
       " 'Tapa dura',\n",
       " 'PARÍS DESPERTABA TARDE',\n",
       " 'MAXIM HUERTA',\n",
       " '20,90 €',\n",
       " '5%',\n",
       " '19,85 €',\n",
       " '¡ENVÍO GRATIS!',\n",
       " 'VER FICHA',\n",
       " 'AÑADIR',\n",
       " 'Libro premiado',\n",
       " 'Tapa dura',\n",
       " 'LAS HIJAS DE LA CRIADA (PREMIO PLANETA 2023)',\n",
       " 'SONSOLES ONEGA',\n",
       " '22,90 €',\n",
       " '5%',\n",
       " '21,75 €',\n",
       " '(92)',\n",
       " '¡ENVÍO GRATIS!',\n",
       " 'VER FICHA',\n",
       " 'AÑADIR',\n",
       " 'NUEVO',\n",
       " 'Tapa blanda',\n",
       " 'SCARRED: UNA HISTORIA DE NUNCA JAMAS',\n",
       " 'EMILY MCINTIRE',\n",
       " '20,95 €',\n",
       " '5%',\n",
       " '19,90 €',\n",
       " '¡ENVÍO GRATIS!',\n",
       " 'VER FICHA',\n",
       " 'AÑADIR',\n",
       " 'NUEVO',\n",
       " 'Tapa blanda',\n",
       " 'LA RED PÚRPURA (EDICIÓN LIMITADA) (LA NOVIA GITANA 2)',\n",
       " 'CARMEN MOLA',\n",
       " '7,95 €',\n",
       " '5%',\n",
       " '7,55 €',\n",
       " '(3)',\n",
       " 'VER FICHA',\n",
       " 'AÑADIR',\n",
       " 'NUEVO',\n",
       " 'Tapa blanda',\n",
       " 'LA NENA (EDICIÓN LIMITADA) (LA NOVIA GITANA 3)',\n",
       " 'CARMEN MOLA',\n",
       " '7,95 €',\n",
       " '5%',\n",
       " '7,55 €',\n",
       " '(1)',\n",
       " 'VER FICHA',\n",
       " 'AÑADIR']"
      ]
     },
     "execution_count": 8,
     "metadata": {},
     "output_type": "execute_result"
    }
   ],
   "source": [
    "# Fiction\n",
    "\n",
    "ficcion = categories[0].text.split(\"\\n\")\n",
    "ficcion"
   ]
  },
  {
   "cell_type": "code",
   "execution_count": 9,
   "id": "cdf20a1d",
   "metadata": {},
   "outputs": [
    {
     "data": {
      "text/plain": [
       "['PREVENTA',\n",
       " 'Tapa blanda',\n",
       " 'NOVIA',\n",
       " 'ALI HAZELWOOD',\n",
       " '18,95 €',\n",
       " '5%',\n",
       " '18,00 €',\n",
       " 'VER FICHA',\n",
       " 'AÑADIR',\n",
       " 'NUEVO',\n",
       " 'Tapa blanda',\n",
       " 'TRES ENIGMAS PARA LA ORGANIZACIÓN',\n",
       " 'EDUARDO MENDOZA',\n",
       " '21,90 €',\n",
       " '5%',\n",
       " '20,80 €',\n",
       " '(2)',\n",
       " '¡ENVÍO GRATIS!',\n",
       " 'VER FICHA',\n",
       " 'AÑADIR',\n",
       " 'NUEVO',\n",
       " 'Tapa blanda',\n",
       " 'EL HIJO OLVIDADO',\n",
       " 'MIKEL SANTIAGO',\n",
       " '22,90 €',\n",
       " '5%',\n",
       " '21,75 €',\n",
       " '(2)',\n",
       " '¡ENVÍO GRATIS!',\n",
       " 'VER FICHA',\n",
       " 'AÑADIR',\n",
       " 'NUEVO',\n",
       " 'Tapa blanda',\n",
       " 'EL BARRACON DE LAS MUJERES',\n",
       " 'FERMINA CAÑAVERAS',\n",
       " '20,90 €',\n",
       " '5%',\n",
       " '19,85 €',\n",
       " '(2)',\n",
       " '¡ENVÍO GRATIS!',\n",
       " 'VER FICHA',\n",
       " 'AÑADIR',\n",
       " 'Tapa blanda',\n",
       " 'LA PACIENTE SILENCIOSA',\n",
       " 'ALEX MICHAELIDES',\n",
       " '19,90 €',\n",
       " '5%',\n",
       " '18,90 €',\n",
       " '(65)',\n",
       " '¡ENVÍO GRATIS!',\n",
       " 'VER FICHA',\n",
       " 'AÑADIR',\n",
       " 'NUEVO',\n",
       " 'Tapa dura',\n",
       " 'PARÍS DESPERTABA TARDE',\n",
       " 'MAXIM HUERTA',\n",
       " '20,90 €',\n",
       " '5%',\n",
       " '19,85 €',\n",
       " '¡ENVÍO GRATIS!',\n",
       " 'VER FICHA',\n",
       " 'AÑADIR',\n",
       " 'Libro premiado',\n",
       " 'Tapa dura',\n",
       " 'LAS HIJAS DE LA CRIADA (PREMIO PLANETA 2023)',\n",
       " 'SONSOLES ONEGA',\n",
       " '22,90 €',\n",
       " '5%',\n",
       " '21,75 €',\n",
       " '(92)',\n",
       " '¡ENVÍO GRATIS!',\n",
       " 'VER FICHA',\n",
       " 'AÑADIR',\n",
       " 'NUEVO',\n",
       " 'Tapa blanda',\n",
       " 'SCARRED: UNA HISTORIA DE NUNCA JAMAS',\n",
       " 'EMILY MCINTIRE',\n",
       " '20,95 €',\n",
       " '5%',\n",
       " '19,90 €',\n",
       " '¡ENVÍO GRATIS!',\n",
       " 'VER FICHA',\n",
       " 'AÑADIR',\n",
       " 'NUEVO',\n",
       " 'Tapa blanda',\n",
       " 'LA RED PÚRPURA (EDICIÓN LIMITADA) (LA NOVIA GITANA 2)',\n",
       " 'CARMEN MOLA',\n",
       " '7,95 €',\n",
       " '5%',\n",
       " '7,55 €',\n",
       " '(3)',\n",
       " 'VER FICHA',\n",
       " 'AÑADIR',\n",
       " 'NUEVO',\n",
       " 'Tapa blanda',\n",
       " 'LA NENA (EDICIÓN LIMITADA) (LA NOVIA GITANA 3)',\n",
       " 'CARMEN MOLA',\n",
       " '7,95 €',\n",
       " '5%',\n",
       " '7,55 €',\n",
       " '(1)',\n",
       " 'VER FICHA',\n",
       " 'AÑADIR']"
      ]
     },
     "execution_count": 9,
     "metadata": {},
     "output_type": "execute_result"
    }
   ],
   "source": [
    "book = categories[0]\n",
    "book.find_element(By.CLASS_NAME, 'compact-product')\n",
    "book.text.split(\"\\n\")"
   ]
  },
  {
   "cell_type": "code",
   "execution_count": 10,
   "id": "b5826c52",
   "metadata": {},
   "outputs": [
    {
     "data": {
      "text/plain": [
       "'NOVIA'"
      ]
     },
     "execution_count": 10,
     "metadata": {},
     "output_type": "execute_result"
    }
   ],
   "source": [
    "#Getting the book title\n",
    "\n",
    "title = categories[0].find_element(By.CLASS_NAME, \"compact-product-title\").text\n",
    "title"
   ]
  },
  {
   "cell_type": "code",
   "execution_count": 11,
   "id": "405e9ed9",
   "metadata": {},
   "outputs": [
    {
     "data": {
      "text/plain": [
       "'ALI HAZELWOOD'"
      ]
     },
     "execution_count": 11,
     "metadata": {},
     "output_type": "execute_result"
    }
   ],
   "source": [
    "#Getting the book author\n",
    "\n",
    "author = categories[0].find_element(By.CLASS_NAME, \"compact-product-authors.text-body-2.grey-darken-1\").text\n",
    "author "
   ]
  },
  {
   "cell_type": "code",
   "execution_count": 12,
   "id": "571bb64b",
   "metadata": {},
   "outputs": [
    {
     "data": {
      "text/plain": [
       "'Tapa blanda'"
      ]
     },
     "execution_count": 12,
     "metadata": {},
     "output_type": "execute_result"
    }
   ],
   "source": [
    "#Geting the book version\n",
    "\n",
    "version = categories [0].find_element(By.CLASS_NAME, \"feature\").text\n",
    "version"
   ]
  },
  {
   "cell_type": "code",
   "execution_count": 13,
   "id": "ebad3f2f",
   "metadata": {},
   "outputs": [
    {
     "data": {
      "text/plain": [
       "'18,00'"
      ]
     },
     "execution_count": 13,
     "metadata": {},
     "output_type": "execute_result"
    }
   ],
   "source": [
    "#Getting the book price\n",
    "\n",
    "price = categories[0].find_element(By.CLASS_NAME, \"main-price\").text\n",
    "price = price.replace(\"\\n\", \".\").replace(\"€\", \"\").strip()\n",
    "price"
   ]
  },
  {
   "cell_type": "code",
   "execution_count": 14,
   "id": "a958d614",
   "metadata": {},
   "outputs": [],
   "source": [
    "#Gethering all the details we scraped into one list of dictionaries\n",
    "\n",
    "categories = driver.find_elements(By.CLASS_NAME, 'swiper-container')\n",
    "\n",
    "len(categories)\n",
    "\n",
    "ficcion = categories[0].text.split(\"\\n\")\n",
    "\n",
    "title = categories[0].find_element(By.CLASS_NAME, \"compact-product-title\").text\n",
    "author = categories[0].find_element(By.CLASS_NAME, \"compact-product-authors.text-body-2.grey-darken-1\").text\n",
    "version = categories[0].find_element(By.CLASS_NAME, \"feature\").text\n",
    "price = categories[0].find_element(By.CLASS_NAME, \"main-price\").text\n",
    "price = price.replace(\"\\n\", \".\").replace(\"€\", \"\").strip()\n",
    "\n",
    "books = []\n",
    "\n",
    "# Iterate over elements inside categories[0]\n",
    "books_elements = categories[0].find_elements(By.CLASS_NAME, \"compact-product\")\n",
    "for p in books_elements:\n",
    "    title = p.find_element(By.CLASS_NAME, \"compact-product-title\").text\n",
    "    author = p.find_element(By.CLASS_NAME, \"compact-product-authors.text-body-2.grey-darken-1\").text\n",
    "    version = p.find_element(By.CLASS_NAME, \"feature\").text\n",
    "    price = p.find_element(By.CLASS_NAME, \"main-price\").text\n",
    "    price = price.replace(\"\\n\", \".\").replace(\"€\", \"\").strip()\n",
    "    dictio = {'title': title, 'author': author, 'version': version, 'price': price}\n",
    "    books.append(dictio)"
   ]
  },
  {
   "cell_type": "code",
   "execution_count": 15,
   "id": "615b8bf5",
   "metadata": {},
   "outputs": [
    {
     "data": {
      "text/plain": [
       "[{'title': 'NOVIA',\n",
       "  'author': 'ALI HAZELWOOD',\n",
       "  'version': 'Tapa blanda',\n",
       "  'price': '18,00'},\n",
       " {'title': 'TRES ENIGMAS PARA LA ORGANIZACIÓN',\n",
       "  'author': 'EDUARDO MENDOZA',\n",
       "  'version': 'Tapa blanda',\n",
       "  'price': '20,80'},\n",
       " {'title': 'EL HIJO OLVIDADO',\n",
       "  'author': 'MIKEL SANTIAGO',\n",
       "  'version': 'Tapa blanda',\n",
       "  'price': '21,75'},\n",
       " {'title': 'EL BARRACON DE LAS MUJERES',\n",
       "  'author': 'FERMINA CAÑAVERAS',\n",
       "  'version': 'Tapa blanda',\n",
       "  'price': '19,85'},\n",
       " {'title': 'LA PACIENTE SILENCIOSA',\n",
       "  'author': 'ALEX MICHAELIDES',\n",
       "  'version': 'Tapa blanda',\n",
       "  'price': '18,90'},\n",
       " {'title': 'PARÍS DESPERTABA TARDE',\n",
       "  'author': 'MAXIM HUERTA',\n",
       "  'version': 'Tapa dura',\n",
       "  'price': '19,85'},\n",
       " {'title': 'LAS HIJAS DE LA CRIADA (PREMIO PLANETA 2023)',\n",
       "  'author': 'SONSOLES ONEGA',\n",
       "  'version': 'Tapa dura',\n",
       "  'price': '21,75'},\n",
       " {'title': 'SCARRED: UNA HISTORIA DE NUNCA JAMAS',\n",
       "  'author': 'EMILY MCINTIRE',\n",
       "  'version': 'Tapa blanda',\n",
       "  'price': '19,90'},\n",
       " {'title': 'LA RED PÚRPURA (EDICIÓN LIMITADA) (LA NOVIA GITANA 2)',\n",
       "  'author': 'CARMEN MOLA',\n",
       "  'version': 'Tapa blanda',\n",
       "  'price': '7,55'},\n",
       " {'title': 'LA NENA (EDICIÓN LIMITADA) (LA NOVIA GITANA 3)',\n",
       "  'author': 'CARMEN MOLA',\n",
       "  'version': 'Tapa blanda',\n",
       "  'price': '7,55'}]"
      ]
     },
     "execution_count": 15,
     "metadata": {},
     "output_type": "execute_result"
    }
   ],
   "source": [
    "#Showing the list\n",
    "\n",
    "books"
   ]
  },
  {
   "cell_type": "code",
   "execution_count": 16,
   "id": "446464f9",
   "metadata": {},
   "outputs": [
    {
     "data": {
      "text/html": [
       "<div>\n",
       "<style scoped>\n",
       "    .dataframe tbody tr th:only-of-type {\n",
       "        vertical-align: middle;\n",
       "    }\n",
       "\n",
       "    .dataframe tbody tr th {\n",
       "        vertical-align: top;\n",
       "    }\n",
       "\n",
       "    .dataframe thead th {\n",
       "        text-align: right;\n",
       "    }\n",
       "</style>\n",
       "<table border=\"1\" class=\"dataframe\">\n",
       "  <thead>\n",
       "    <tr style=\"text-align: right;\">\n",
       "      <th></th>\n",
       "      <th>title</th>\n",
       "      <th>author</th>\n",
       "      <th>version</th>\n",
       "      <th>price</th>\n",
       "    </tr>\n",
       "  </thead>\n",
       "  <tbody>\n",
       "    <tr>\n",
       "      <th>0</th>\n",
       "      <td>NOVIA</td>\n",
       "      <td>ALI HAZELWOOD</td>\n",
       "      <td>Tapa blanda</td>\n",
       "      <td>18,00</td>\n",
       "    </tr>\n",
       "    <tr>\n",
       "      <th>1</th>\n",
       "      <td>TRES ENIGMAS PARA LA ORGANIZACIÓN</td>\n",
       "      <td>EDUARDO MENDOZA</td>\n",
       "      <td>Tapa blanda</td>\n",
       "      <td>20,80</td>\n",
       "    </tr>\n",
       "    <tr>\n",
       "      <th>2</th>\n",
       "      <td>EL HIJO OLVIDADO</td>\n",
       "      <td>MIKEL SANTIAGO</td>\n",
       "      <td>Tapa blanda</td>\n",
       "      <td>21,75</td>\n",
       "    </tr>\n",
       "    <tr>\n",
       "      <th>3</th>\n",
       "      <td>EL BARRACON DE LAS MUJERES</td>\n",
       "      <td>FERMINA CAÑAVERAS</td>\n",
       "      <td>Tapa blanda</td>\n",
       "      <td>19,85</td>\n",
       "    </tr>\n",
       "    <tr>\n",
       "      <th>4</th>\n",
       "      <td>LA PACIENTE SILENCIOSA</td>\n",
       "      <td>ALEX MICHAELIDES</td>\n",
       "      <td>Tapa blanda</td>\n",
       "      <td>18,90</td>\n",
       "    </tr>\n",
       "    <tr>\n",
       "      <th>5</th>\n",
       "      <td>PARÍS DESPERTABA TARDE</td>\n",
       "      <td>MAXIM HUERTA</td>\n",
       "      <td>Tapa dura</td>\n",
       "      <td>19,85</td>\n",
       "    </tr>\n",
       "    <tr>\n",
       "      <th>6</th>\n",
       "      <td>LAS HIJAS DE LA CRIADA (PREMIO PLANETA 2023)</td>\n",
       "      <td>SONSOLES ONEGA</td>\n",
       "      <td>Tapa dura</td>\n",
       "      <td>21,75</td>\n",
       "    </tr>\n",
       "    <tr>\n",
       "      <th>7</th>\n",
       "      <td>SCARRED: UNA HISTORIA DE NUNCA JAMAS</td>\n",
       "      <td>EMILY MCINTIRE</td>\n",
       "      <td>Tapa blanda</td>\n",
       "      <td>19,90</td>\n",
       "    </tr>\n",
       "    <tr>\n",
       "      <th>8</th>\n",
       "      <td>LA RED PÚRPURA (EDICIÓN LIMITADA) (LA NOVIA GI...</td>\n",
       "      <td>CARMEN MOLA</td>\n",
       "      <td>Tapa blanda</td>\n",
       "      <td>7,55</td>\n",
       "    </tr>\n",
       "    <tr>\n",
       "      <th>9</th>\n",
       "      <td>LA NENA (EDICIÓN LIMITADA) (LA NOVIA GITANA 3)</td>\n",
       "      <td>CARMEN MOLA</td>\n",
       "      <td>Tapa blanda</td>\n",
       "      <td>7,55</td>\n",
       "    </tr>\n",
       "  </tbody>\n",
       "</table>\n",
       "</div>"
      ],
      "text/plain": [
       "                                               title             author  \\\n",
       "0                                              NOVIA      ALI HAZELWOOD   \n",
       "1                  TRES ENIGMAS PARA LA ORGANIZACIÓN    EDUARDO MENDOZA   \n",
       "2                                   EL HIJO OLVIDADO     MIKEL SANTIAGO   \n",
       "3                         EL BARRACON DE LAS MUJERES  FERMINA CAÑAVERAS   \n",
       "4                             LA PACIENTE SILENCIOSA   ALEX MICHAELIDES   \n",
       "5                             PARÍS DESPERTABA TARDE       MAXIM HUERTA   \n",
       "6       LAS HIJAS DE LA CRIADA (PREMIO PLANETA 2023)     SONSOLES ONEGA   \n",
       "7               SCARRED: UNA HISTORIA DE NUNCA JAMAS     EMILY MCINTIRE   \n",
       "8  LA RED PÚRPURA (EDICIÓN LIMITADA) (LA NOVIA GI...        CARMEN MOLA   \n",
       "9     LA NENA (EDICIÓN LIMITADA) (LA NOVIA GITANA 3)        CARMEN MOLA   \n",
       "\n",
       "       version  price  \n",
       "0  Tapa blanda  18,00  \n",
       "1  Tapa blanda  20,80  \n",
       "2  Tapa blanda  21,75  \n",
       "3  Tapa blanda  19,85  \n",
       "4  Tapa blanda  18,90  \n",
       "5    Tapa dura  19,85  \n",
       "6    Tapa dura  21,75  \n",
       "7  Tapa blanda  19,90  \n",
       "8  Tapa blanda   7,55  \n",
       "9  Tapa blanda   7,55  "
      ]
     },
     "execution_count": 16,
     "metadata": {},
     "output_type": "execute_result"
    }
   ],
   "source": [
    "#Creating the DataFrame from the list of dictionaries\n",
    "\n",
    "top_ficcion = pd.DataFrame(books)\n",
    "top_ficcion.head(20)"
   ]
  },
  {
   "cell_type": "code",
   "execution_count": 17,
   "id": "f961c61a",
   "metadata": {},
   "outputs": [
    {
     "data": {
      "text/plain": [
       "(10, 4)"
      ]
     },
     "execution_count": 17,
     "metadata": {},
     "output_type": "execute_result"
    }
   ],
   "source": [
    "#Number the rows and columns in the DataFrame\n",
    "\n",
    "top_ficcion.shape"
   ]
  },
  {
   "cell_type": "code",
   "execution_count": 18,
   "id": "ced0c0b2",
   "metadata": {},
   "outputs": [
    {
     "data": {
      "text/plain": [
       "['NUEVO',\n",
       " 'Tapa blanda',\n",
       " 'TU CEREBRO TIENE HAMBRE',\n",
       " 'BOTICARIA GARCIA',\n",
       " '19,90 €',\n",
       " '5%',\n",
       " '18,90 €',\n",
       " '¡ENVÍO GRATIS!',\n",
       " 'VER FICHA',\n",
       " 'AÑADIR',\n",
       " 'Tapa blanda',\n",
       " 'HABITOS ATOMICOS',\n",
       " 'JAMES CLEAR',\n",
       " '19,90 €',\n",
       " '5%',\n",
       " '18,90 €',\n",
       " '(71)',\n",
       " '¡ENVÍO GRATIS!',\n",
       " 'VER FICHA',\n",
       " 'AÑADIR',\n",
       " 'Otros',\n",
       " 'DEJA DE SER TU. LA MENTE CREA LA REALIDAD',\n",
       " 'JOE DISPENZA',\n",
       " '18,00 €',\n",
       " '5%',\n",
       " '17,10 €',\n",
       " '(23)',\n",
       " 'VER FICHA',\n",
       " 'AÑADIR',\n",
       " 'Tapa dura',\n",
       " 'EL INFINITO PLACER DE LAS MATEMÁTICAS',\n",
       " 'SANDRO MACCARRONE',\n",
       " '24,90 €',\n",
       " '5%',\n",
       " '23,65 €',\n",
       " '(3)',\n",
       " '¡ENVÍO GRATIS!',\n",
       " 'VER FICHA',\n",
       " 'AÑADIR',\n",
       " 'Tapa blanda',\n",
       " 'CÓMO HACER QUE TE PASEN COSAS BUENAS',\n",
       " 'MARIAN ROJAS',\n",
       " '19,90 €',\n",
       " '5%',\n",
       " '18,90 €',\n",
       " '(100)',\n",
       " '¡ENVÍO GRATIS!',\n",
       " 'VER FICHA',\n",
       " 'AÑADIR',\n",
       " 'NUEVO',\n",
       " 'Tapa blanda',\n",
       " 'CARNE GOBERNADA',\n",
       " 'FERNANDO SAVATER',\n",
       " '20,90 €',\n",
       " '5%',\n",
       " '19,85 €',\n",
       " '¡ENVÍO GRATIS!',\n",
       " 'VER FICHA',\n",
       " 'AÑADIR',\n",
       " 'PREVENTA',\n",
       " 'Tapa blanda',\n",
       " 'ALGO QUE SIRVA COMO LUZ',\n",
       " 'FERNANDO NAVARRO CANO',\n",
       " '19,90 €',\n",
       " '5%',\n",
       " '18,90 €',\n",
       " '¡ENVÍO GRATIS!',\n",
       " 'VER FICHA',\n",
       " 'AÑADIR',\n",
       " 'NUEVO',\n",
       " 'Tapa blanda',\n",
       " 'EDUCA TU CEREBRO',\n",
       " 'DAVID BUENO',\n",
       " '20,90 €',\n",
       " '5%',\n",
       " '19,85 €',\n",
       " '¡ENVÍO GRATIS!',\n",
       " 'VER FICHA',\n",
       " 'AÑADIR',\n",
       " 'Tapa blanda',\n",
       " 'EL HOMBRE EN BUSCA DE SENTIDO',\n",
       " 'VIKTOR E. FRANKL',\n",
       " '12,90 €',\n",
       " '5%',\n",
       " '12,25 €',\n",
       " '(77)',\n",
       " 'VER FICHA',\n",
       " 'AÑADIR',\n",
       " 'Tapa blanda',\n",
       " 'DETRAS DEL RUIDO',\n",
       " 'ANGEL MARTIN',\n",
       " '18,90 €',\n",
       " '5%',\n",
       " '17,95 €',\n",
       " '(24)',\n",
       " 'VER FICHA',\n",
       " 'AÑADIR']"
      ]
     },
     "execution_count": 18,
     "metadata": {},
     "output_type": "execute_result"
    }
   ],
   "source": [
    "#Repeating the process for the Non-fiction category\n",
    "\n",
    "no_ficcion = categories[1].text.split(\"\\n\")\n",
    "no_ficcion"
   ]
  },
  {
   "cell_type": "code",
   "execution_count": 19,
   "id": "112142e5",
   "metadata": {},
   "outputs": [
    {
     "data": {
      "text/plain": [
       "'TU CEREBRO TIENE HAMBRE'"
      ]
     },
     "execution_count": 19,
     "metadata": {},
     "output_type": "execute_result"
    }
   ],
   "source": [
    "#Getiing the book title\n",
    "\n",
    "title = categories[1].find_element(By.CLASS_NAME, \"compact-product-title\").text\n",
    "title"
   ]
  },
  {
   "cell_type": "code",
   "execution_count": 20,
   "id": "f3c4c3f3",
   "metadata": {},
   "outputs": [
    {
     "data": {
      "text/plain": [
       "'BOTICARIA GARCIA'"
      ]
     },
     "execution_count": 20,
     "metadata": {},
     "output_type": "execute_result"
    }
   ],
   "source": [
    "#Getting the book author\n",
    "\n",
    "author = categories[1].find_element(By.CLASS_NAME, \"compact-product-authors.text-body-2.grey-darken-1\").text\n",
    "author "
   ]
  },
  {
   "cell_type": "code",
   "execution_count": 21,
   "id": "e636bdd5",
   "metadata": {},
   "outputs": [
    {
     "data": {
      "text/plain": [
       "'18,90'"
      ]
     },
     "execution_count": 21,
     "metadata": {},
     "output_type": "execute_result"
    }
   ],
   "source": [
    "#Getting the book price\n",
    "\n",
    "price = categories[1].find_element(By.CLASS_NAME, \"main-price\").text\n",
    "price = price.replace(\"\\n\", \".\").replace(\"€\", \"\").strip()\n",
    "price"
   ]
  },
  {
   "cell_type": "code",
   "execution_count": 22,
   "id": "6d7ce644",
   "metadata": {},
   "outputs": [
    {
     "data": {
      "text/plain": [
       "'Tapa blanda'"
      ]
     },
     "execution_count": 22,
     "metadata": {},
     "output_type": "execute_result"
    }
   ],
   "source": [
    "#Getting the book version\n",
    "\n",
    "version = categories [1].find_element(By.CLASS_NAME, \"feature\").text\n",
    "version"
   ]
  },
  {
   "cell_type": "code",
   "execution_count": 23,
   "id": "c433c52f",
   "metadata": {},
   "outputs": [],
   "source": [
    "#Gethering all the details we scraped into one list of dictionaries\n",
    "\n",
    "categories = driver.find_elements(By.CLASS_NAME, 'swiper-container')\n",
    "\n",
    "len(categories)\n",
    "\n",
    "no_ficcion = categories[1].text.split(\"\\n\")\n",
    "\n",
    "title = categories[1].find_element(By.CLASS_NAME, \"compact-product-title\").text\n",
    "author = categories[1].find_element(By.CLASS_NAME, \"compact-product-authors.text-body-2.grey-darken-1\").text\n",
    "version = categories[1].find_element(By.CLASS_NAME, \"feature\").text\n",
    "price = categories[1].find_element(By.CLASS_NAME, \"main-price\").text\n",
    "price = price.replace(\"\\n\", \".\").replace(\"€\", \"\").strip()\n",
    "\n",
    "books2 = []\n",
    "\n",
    "# Iterate over elements inside categories[1]\n",
    "books_elements = categories[1].find_elements(By.CLASS_NAME, \"compact-product\")\n",
    "for p in books_elements:\n",
    "    title = p.find_element(By.CLASS_NAME, \"compact-product-title\").text\n",
    "    author = p.find_element(By.CLASS_NAME, \"compact-product-authors.text-body-2.grey-darken-1\").text\n",
    "    version = p.find_element(By.CLASS_NAME, \"feature\").text\n",
    "    price = p.find_element(By.CLASS_NAME, \"main-price\").text\n",
    "    price = price.replace(\"\\n\", \".\").replace(\"€\", \"\").strip()\n",
    "    dictio = {'title': title, 'author': author, 'version': version, 'price': price}\n",
    "    books2.append(dictio)"
   ]
  },
  {
   "cell_type": "code",
   "execution_count": 24,
   "id": "5bc041bd",
   "metadata": {},
   "outputs": [
    {
     "data": {
      "text/plain": [
       "[{'title': 'TU CEREBRO TIENE HAMBRE',\n",
       "  'author': 'BOTICARIA GARCIA',\n",
       "  'version': 'Tapa blanda',\n",
       "  'price': '18,90'},\n",
       " {'title': 'HABITOS ATOMICOS',\n",
       "  'author': 'JAMES CLEAR',\n",
       "  'version': 'Tapa blanda',\n",
       "  'price': '18,90'},\n",
       " {'title': 'DEJA DE SER TU. LA MENTE CREA LA REALIDAD',\n",
       "  'author': 'JOE DISPENZA',\n",
       "  'version': 'Otros',\n",
       "  'price': '17,10'},\n",
       " {'title': 'EL INFINITO PLACER DE LAS MATEMÁTICAS',\n",
       "  'author': 'SANDRO MACCARRONE',\n",
       "  'version': 'Tapa dura',\n",
       "  'price': '23,65'},\n",
       " {'title': 'CÓMO HACER QUE TE PASEN COSAS BUENAS',\n",
       "  'author': 'MARIAN ROJAS',\n",
       "  'version': 'Tapa blanda',\n",
       "  'price': '18,90'},\n",
       " {'title': 'CARNE GOBERNADA',\n",
       "  'author': 'FERNANDO SAVATER',\n",
       "  'version': 'Tapa blanda',\n",
       "  'price': '19,85'},\n",
       " {'title': 'ALGO QUE SIRVA COMO LUZ',\n",
       "  'author': 'FERNANDO NAVARRO CANO',\n",
       "  'version': 'Tapa blanda',\n",
       "  'price': '18,90'},\n",
       " {'title': 'EDUCA TU CEREBRO',\n",
       "  'author': 'DAVID BUENO',\n",
       "  'version': 'Tapa blanda',\n",
       "  'price': '19,85'},\n",
       " {'title': 'EL HOMBRE EN BUSCA DE SENTIDO',\n",
       "  'author': 'VIKTOR E. FRANKL',\n",
       "  'version': 'Tapa blanda',\n",
       "  'price': '12,25'},\n",
       " {'title': 'DETRAS DEL RUIDO',\n",
       "  'author': 'ANGEL MARTIN',\n",
       "  'version': 'Tapa blanda',\n",
       "  'price': '17,95'}]"
      ]
     },
     "execution_count": 24,
     "metadata": {},
     "output_type": "execute_result"
    }
   ],
   "source": [
    "#Showing the list\n",
    "\n",
    "books2"
   ]
  },
  {
   "cell_type": "code",
   "execution_count": 25,
   "id": "58220842",
   "metadata": {},
   "outputs": [
    {
     "data": {
      "text/html": [
       "<div>\n",
       "<style scoped>\n",
       "    .dataframe tbody tr th:only-of-type {\n",
       "        vertical-align: middle;\n",
       "    }\n",
       "\n",
       "    .dataframe tbody tr th {\n",
       "        vertical-align: top;\n",
       "    }\n",
       "\n",
       "    .dataframe thead th {\n",
       "        text-align: right;\n",
       "    }\n",
       "</style>\n",
       "<table border=\"1\" class=\"dataframe\">\n",
       "  <thead>\n",
       "    <tr style=\"text-align: right;\">\n",
       "      <th></th>\n",
       "      <th>title</th>\n",
       "      <th>author</th>\n",
       "      <th>version</th>\n",
       "      <th>price</th>\n",
       "    </tr>\n",
       "  </thead>\n",
       "  <tbody>\n",
       "    <tr>\n",
       "      <th>0</th>\n",
       "      <td>TU CEREBRO TIENE HAMBRE</td>\n",
       "      <td>BOTICARIA GARCIA</td>\n",
       "      <td>Tapa blanda</td>\n",
       "      <td>18,90</td>\n",
       "    </tr>\n",
       "    <tr>\n",
       "      <th>1</th>\n",
       "      <td>HABITOS ATOMICOS</td>\n",
       "      <td>JAMES CLEAR</td>\n",
       "      <td>Tapa blanda</td>\n",
       "      <td>18,90</td>\n",
       "    </tr>\n",
       "    <tr>\n",
       "      <th>2</th>\n",
       "      <td>DEJA DE SER TU. LA MENTE CREA LA REALIDAD</td>\n",
       "      <td>JOE DISPENZA</td>\n",
       "      <td>Otros</td>\n",
       "      <td>17,10</td>\n",
       "    </tr>\n",
       "    <tr>\n",
       "      <th>3</th>\n",
       "      <td>EL INFINITO PLACER DE LAS MATEMÁTICAS</td>\n",
       "      <td>SANDRO MACCARRONE</td>\n",
       "      <td>Tapa dura</td>\n",
       "      <td>23,65</td>\n",
       "    </tr>\n",
       "    <tr>\n",
       "      <th>4</th>\n",
       "      <td>CÓMO HACER QUE TE PASEN COSAS BUENAS</td>\n",
       "      <td>MARIAN ROJAS</td>\n",
       "      <td>Tapa blanda</td>\n",
       "      <td>18,90</td>\n",
       "    </tr>\n",
       "    <tr>\n",
       "      <th>5</th>\n",
       "      <td>CARNE GOBERNADA</td>\n",
       "      <td>FERNANDO SAVATER</td>\n",
       "      <td>Tapa blanda</td>\n",
       "      <td>19,85</td>\n",
       "    </tr>\n",
       "    <tr>\n",
       "      <th>6</th>\n",
       "      <td>ALGO QUE SIRVA COMO LUZ</td>\n",
       "      <td>FERNANDO NAVARRO CANO</td>\n",
       "      <td>Tapa blanda</td>\n",
       "      <td>18,90</td>\n",
       "    </tr>\n",
       "    <tr>\n",
       "      <th>7</th>\n",
       "      <td>EDUCA TU CEREBRO</td>\n",
       "      <td>DAVID BUENO</td>\n",
       "      <td>Tapa blanda</td>\n",
       "      <td>19,85</td>\n",
       "    </tr>\n",
       "    <tr>\n",
       "      <th>8</th>\n",
       "      <td>EL HOMBRE EN BUSCA DE SENTIDO</td>\n",
       "      <td>VIKTOR E. FRANKL</td>\n",
       "      <td>Tapa blanda</td>\n",
       "      <td>12,25</td>\n",
       "    </tr>\n",
       "    <tr>\n",
       "      <th>9</th>\n",
       "      <td>DETRAS DEL RUIDO</td>\n",
       "      <td>ANGEL MARTIN</td>\n",
       "      <td>Tapa blanda</td>\n",
       "      <td>17,95</td>\n",
       "    </tr>\n",
       "  </tbody>\n",
       "</table>\n",
       "</div>"
      ],
      "text/plain": [
       "                                       title                 author  \\\n",
       "0                    TU CEREBRO TIENE HAMBRE       BOTICARIA GARCIA   \n",
       "1                           HABITOS ATOMICOS            JAMES CLEAR   \n",
       "2  DEJA DE SER TU. LA MENTE CREA LA REALIDAD           JOE DISPENZA   \n",
       "3      EL INFINITO PLACER DE LAS MATEMÁTICAS      SANDRO MACCARRONE   \n",
       "4       CÓMO HACER QUE TE PASEN COSAS BUENAS           MARIAN ROJAS   \n",
       "5                            CARNE GOBERNADA       FERNANDO SAVATER   \n",
       "6                    ALGO QUE SIRVA COMO LUZ  FERNANDO NAVARRO CANO   \n",
       "7                           EDUCA TU CEREBRO            DAVID BUENO   \n",
       "8              EL HOMBRE EN BUSCA DE SENTIDO       VIKTOR E. FRANKL   \n",
       "9                           DETRAS DEL RUIDO           ANGEL MARTIN   \n",
       "\n",
       "       version  price  \n",
       "0  Tapa blanda  18,90  \n",
       "1  Tapa blanda  18,90  \n",
       "2        Otros  17,10  \n",
       "3    Tapa dura  23,65  \n",
       "4  Tapa blanda  18,90  \n",
       "5  Tapa blanda  19,85  \n",
       "6  Tapa blanda  18,90  \n",
       "7  Tapa blanda  19,85  \n",
       "8  Tapa blanda  12,25  \n",
       "9  Tapa blanda  17,95  "
      ]
     },
     "execution_count": 25,
     "metadata": {},
     "output_type": "execute_result"
    }
   ],
   "source": [
    "#Creating the DataFrame from the list of dictionaries\n",
    "\n",
    "top_no_ficcion = pd.DataFrame(books2)\n",
    "top_no_ficcion.head(20)"
   ]
  },
  {
   "cell_type": "code",
   "execution_count": 26,
   "id": "c6bc854f",
   "metadata": {},
   "outputs": [
    {
     "data": {
      "text/plain": [
       "['NUEVO',\n",
       " 'Tapa dura',\n",
       " 'EL PEQUEÑO LIBRO DEL AMOR',\n",
       " '72 KILOS',\n",
       " '17,90 €',\n",
       " '5%',\n",
       " '17,00 €',\n",
       " '¡ENVÍO GRATIS!',\n",
       " 'VER FICHA',\n",
       " 'AÑADIR',\n",
       " 'PREVENTA',\n",
       " 'Tapa blanda',\n",
       " 'HEARTSTOPPER 5. CRECIENDO CONTIGO',\n",
       " 'ALICE OSEMAN',\n",
       " '15,95 €',\n",
       " '5%',\n",
       " '15,15 €',\n",
       " '¡ENVÍO GRATIS!',\n",
       " 'VER FICHA',\n",
       " 'AÑADIR',\n",
       " 'NUEVO',\n",
       " 'Tapa dura',\n",
       " 'LA VENTANA QUE SE ABRIÓ AL CERRAR LA PUERTA',\n",
       " 'SOFÍA ZARAGOZA (@SOYCLOTO)',\n",
       " '16,95 €',\n",
       " '5%',\n",
       " '16,10 €',\n",
       " '¡ENVÍO GRATIS!',\n",
       " 'VER FICHA',\n",
       " 'AÑADIR',\n",
       " 'Tapa dura',\n",
       " 'EL VIAJE DE SHUNA',\n",
       " 'HAYAO MIYAZAKI',\n",
       " '24,00 €',\n",
       " '5%',\n",
       " '22,80 €',\n",
       " '(3)',\n",
       " '¡ENVÍO GRATIS!',\n",
       " 'VER FICHA',\n",
       " 'AÑADIR',\n",
       " 'NUEVO',\n",
       " 'Libro premiado',\n",
       " 'Tapa dura',\n",
       " 'EL COLOR DE LAS COSAS',\n",
       " 'MARTIN PANCHAUD',\n",
       " '29,90 €',\n",
       " '5%',\n",
       " '28,40 €',\n",
       " '¡ENVÍO GRATIS!',\n",
       " 'VER FICHA',\n",
       " 'AÑADIR',\n",
       " 'Tapa dura',\n",
       " 'MORTADELUXE',\n",
       " 'FRANCISCO IBAÑEZ',\n",
       " '22,90 €',\n",
       " '5%',\n",
       " '21,75 €',\n",
       " '(2)',\n",
       " '¡ENVÍO GRATIS!',\n",
       " 'VER FICHA',\n",
       " 'AÑADIR',\n",
       " 'NUEVO',\n",
       " 'Tapa dura',\n",
       " 'FOCUS - ALVARO MARTÍNEZ BUENO: THE NICE HOUSE ON THE LAKE VOL. 2',\n",
       " 'JAMES TYNION IV',\n",
       " '34,50 €',\n",
       " '5%',\n",
       " '32,77 €',\n",
       " '¡ENVÍO GRATIS!',\n",
       " 'VER FICHA',\n",
       " 'AÑADIR',\n",
       " 'NUEVO',\n",
       " 'Tapa dura',\n",
       " 'HAIKYU!! Nº 26/45',\n",
       " 'HARUICHI FURUDATE',\n",
       " '8,50 €',\n",
       " '5%',\n",
       " '8,07 €',\n",
       " '(1)',\n",
       " 'VER FICHA',\n",
       " 'AÑADIR',\n",
       " 'Tapa blanda',\n",
       " 'BERSERK MAXIMUM 6',\n",
       " 'KENTARO MIURA',\n",
       " '16,95 €',\n",
       " '5%',\n",
       " '16,10 €',\n",
       " '(5)',\n",
       " '¡ENVÍO GRATIS!',\n",
       " 'VER FICHA',\n",
       " 'AÑADIR',\n",
       " 'PREVENTA',\n",
       " 'Tapa blanda',\n",
       " 'COMO RAELIANA ACABO EN LA MANSION DEL DUQUE 3',\n",
       " 'WHALE y MILCHA',\n",
       " '15,95 €',\n",
       " '5%',\n",
       " '15,15 €',\n",
       " '¡ENVÍO GRATIS!',\n",
       " 'VER FICHA',\n",
       " 'AÑADIR']"
      ]
     },
     "execution_count": 26,
     "metadata": {},
     "output_type": "execute_result"
    }
   ],
   "source": [
    "#Comics category\n",
    "\n",
    "comics = categories[2].text.split(\"\\n\")\n",
    "comics"
   ]
  },
  {
   "cell_type": "code",
   "execution_count": 27,
   "id": "2ada6424",
   "metadata": {},
   "outputs": [
    {
     "data": {
      "text/plain": [
       "'EL PEQUEÑO LIBRO DEL AMOR'"
      ]
     },
     "execution_count": 27,
     "metadata": {},
     "output_type": "execute_result"
    }
   ],
   "source": [
    "#Getting the book title\n",
    "\n",
    "title = categories[2].find_element(By.CLASS_NAME, \"compact-product-title\").text\n",
    "title"
   ]
  },
  {
   "cell_type": "code",
   "execution_count": 28,
   "id": "62176a56",
   "metadata": {},
   "outputs": [
    {
     "data": {
      "text/plain": [
       "'72 KILOS'"
      ]
     },
     "execution_count": 28,
     "metadata": {},
     "output_type": "execute_result"
    }
   ],
   "source": [
    "#Getting the book aauthor\n",
    "\n",
    "author = categories[2].find_element(By.CLASS_NAME, \"compact-product-authors.text-body-2.grey-darken-1\").text\n",
    "author "
   ]
  },
  {
   "cell_type": "code",
   "execution_count": 29,
   "id": "a52cef85",
   "metadata": {},
   "outputs": [
    {
     "data": {
      "text/plain": [
       "'17,00'"
      ]
     },
     "execution_count": 29,
     "metadata": {},
     "output_type": "execute_result"
    }
   ],
   "source": [
    "#Getting the book price\n",
    "\n",
    "price = categories[2].find_element(By.CLASS_NAME, \"main-price\").text\n",
    "price = price.replace(\"\\n\", \".\").replace(\"€\", \"\").strip()\n",
    "price"
   ]
  },
  {
   "cell_type": "code",
   "execution_count": 30,
   "id": "5ba5118b",
   "metadata": {},
   "outputs": [
    {
     "data": {
      "text/plain": [
       "'Tapa dura'"
      ]
     },
     "execution_count": 30,
     "metadata": {},
     "output_type": "execute_result"
    }
   ],
   "source": [
    "#Getting the book version\n",
    "\n",
    "version = categories[2].find_element(By.CLASS_NAME, \"feature\").text\n",
    "version"
   ]
  },
  {
   "cell_type": "code",
   "execution_count": 31,
   "id": "20a1ae47",
   "metadata": {},
   "outputs": [],
   "source": [
    "#Gethering all the details we scraped into one list of dictionaries\n",
    "\n",
    "categories = driver.find_elements(By.CLASS_NAME, 'swiper-container')\n",
    "\n",
    "len(categories)\n",
    "\n",
    "comics = categories[2].text.split(\"\\n\")\n",
    "\n",
    "title = categories[2].find_element(By.CLASS_NAME, \"compact-product-title\").text\n",
    "author = categories[2].find_element(By.CLASS_NAME, \"compact-product-authors.text-body-2.grey-darken-1\").text\n",
    "version = categories[2].find_element(By.CLASS_NAME, \"feature\").text\n",
    "price = categories[2].find_element(By.CLASS_NAME, \"main-price\").text\n",
    "price = price.replace(\"\\n\", \".\").replace(\"€\", \"\").strip()\n",
    "\n",
    "books3 = []\n",
    "\n",
    "# Iterate over elements inside categories[2]\n",
    "books_elements = categories[2].find_elements(By.CLASS_NAME, \"compact-product\")\n",
    "for p in books_elements:\n",
    "    title = p.find_element(By.CLASS_NAME, \"compact-product-title\").text\n",
    "    author = p.find_element(By.CLASS_NAME, \"compact-product-authors.text-body-2.grey-darken-1\").text\n",
    "    version = p.find_element(By.CLASS_NAME, \"feature\").text\n",
    "    price = p.find_element(By.CLASS_NAME, \"main-price\").text\n",
    "    price = price.replace(\"\\n\", \".\").replace(\"€\", \"\").strip()\n",
    "    dictio = {'title': title, 'author': author, 'version': version, 'price': price}\n",
    "    books3.append(dictio)"
   ]
  },
  {
   "cell_type": "code",
   "execution_count": 32,
   "id": "ddf3a86b",
   "metadata": {},
   "outputs": [
    {
     "data": {
      "text/plain": [
       "[{'title': 'EL PEQUEÑO LIBRO DEL AMOR',\n",
       "  'author': '72 KILOS',\n",
       "  'version': 'Tapa dura',\n",
       "  'price': '17,00'},\n",
       " {'title': 'HEARTSTOPPER 5. CRECIENDO CONTIGO',\n",
       "  'author': 'ALICE OSEMAN',\n",
       "  'version': 'Tapa blanda',\n",
       "  'price': '15,15'},\n",
       " {'title': 'LA VENTANA QUE SE ABRIÓ AL CERRAR LA PUERTA',\n",
       "  'author': 'SOFÍA ZARAGOZA (@SOYCLOTO)',\n",
       "  'version': 'Tapa dura',\n",
       "  'price': '16,10'},\n",
       " {'title': 'EL VIAJE DE SHUNA',\n",
       "  'author': 'HAYAO MIYAZAKI',\n",
       "  'version': 'Tapa dura',\n",
       "  'price': '22,80'},\n",
       " {'title': 'EL COLOR DE LAS COSAS',\n",
       "  'author': 'MARTIN PANCHAUD',\n",
       "  'version': 'Tapa dura',\n",
       "  'price': '28,40'},\n",
       " {'title': 'MORTADELUXE',\n",
       "  'author': 'FRANCISCO IBAÑEZ',\n",
       "  'version': 'Tapa dura',\n",
       "  'price': '21,75'},\n",
       " {'title': 'FOCUS - ALVARO MARTÍNEZ BUENO: THE NICE HOUSE ON THE LAKE VOL. 2',\n",
       "  'author': 'JAMES TYNION IV',\n",
       "  'version': 'Tapa dura',\n",
       "  'price': '32,77'},\n",
       " {'title': 'HAIKYU!! Nº 26/45',\n",
       "  'author': 'HARUICHI FURUDATE',\n",
       "  'version': 'Tapa dura',\n",
       "  'price': '8,07'},\n",
       " {'title': 'BERSERK MAXIMUM 6',\n",
       "  'author': 'KENTARO MIURA',\n",
       "  'version': 'Tapa blanda',\n",
       "  'price': '16,10'},\n",
       " {'title': 'COMO RAELIANA ACABO EN LA MANSION DEL DUQUE 3',\n",
       "  'author': 'WHALE y MILCHA',\n",
       "  'version': 'Tapa blanda',\n",
       "  'price': '15,15'}]"
      ]
     },
     "execution_count": 32,
     "metadata": {},
     "output_type": "execute_result"
    }
   ],
   "source": [
    "#Showing the list\n",
    "\n",
    "books3"
   ]
  },
  {
   "cell_type": "code",
   "execution_count": 33,
   "id": "f0caaf66",
   "metadata": {},
   "outputs": [
    {
     "data": {
      "text/html": [
       "<div>\n",
       "<style scoped>\n",
       "    .dataframe tbody tr th:only-of-type {\n",
       "        vertical-align: middle;\n",
       "    }\n",
       "\n",
       "    .dataframe tbody tr th {\n",
       "        vertical-align: top;\n",
       "    }\n",
       "\n",
       "    .dataframe thead th {\n",
       "        text-align: right;\n",
       "    }\n",
       "</style>\n",
       "<table border=\"1\" class=\"dataframe\">\n",
       "  <thead>\n",
       "    <tr style=\"text-align: right;\">\n",
       "      <th></th>\n",
       "      <th>title</th>\n",
       "      <th>author</th>\n",
       "      <th>version</th>\n",
       "      <th>price</th>\n",
       "    </tr>\n",
       "  </thead>\n",
       "  <tbody>\n",
       "    <tr>\n",
       "      <th>0</th>\n",
       "      <td>EL PEQUEÑO LIBRO DEL AMOR</td>\n",
       "      <td>72 KILOS</td>\n",
       "      <td>Tapa dura</td>\n",
       "      <td>17,00</td>\n",
       "    </tr>\n",
       "    <tr>\n",
       "      <th>1</th>\n",
       "      <td>HEARTSTOPPER 5. CRECIENDO CONTIGO</td>\n",
       "      <td>ALICE OSEMAN</td>\n",
       "      <td>Tapa blanda</td>\n",
       "      <td>15,15</td>\n",
       "    </tr>\n",
       "    <tr>\n",
       "      <th>2</th>\n",
       "      <td>LA VENTANA QUE SE ABRIÓ AL CERRAR LA PUERTA</td>\n",
       "      <td>SOFÍA ZARAGOZA (@SOYCLOTO)</td>\n",
       "      <td>Tapa dura</td>\n",
       "      <td>16,10</td>\n",
       "    </tr>\n",
       "    <tr>\n",
       "      <th>3</th>\n",
       "      <td>EL VIAJE DE SHUNA</td>\n",
       "      <td>HAYAO MIYAZAKI</td>\n",
       "      <td>Tapa dura</td>\n",
       "      <td>22,80</td>\n",
       "    </tr>\n",
       "    <tr>\n",
       "      <th>4</th>\n",
       "      <td>EL COLOR DE LAS COSAS</td>\n",
       "      <td>MARTIN PANCHAUD</td>\n",
       "      <td>Tapa dura</td>\n",
       "      <td>28,40</td>\n",
       "    </tr>\n",
       "    <tr>\n",
       "      <th>5</th>\n",
       "      <td>MORTADELUXE</td>\n",
       "      <td>FRANCISCO IBAÑEZ</td>\n",
       "      <td>Tapa dura</td>\n",
       "      <td>21,75</td>\n",
       "    </tr>\n",
       "    <tr>\n",
       "      <th>6</th>\n",
       "      <td>FOCUS - ALVARO MARTÍNEZ BUENO: THE NICE HOUSE ...</td>\n",
       "      <td>JAMES TYNION IV</td>\n",
       "      <td>Tapa dura</td>\n",
       "      <td>32,77</td>\n",
       "    </tr>\n",
       "    <tr>\n",
       "      <th>7</th>\n",
       "      <td>HAIKYU!! Nº 26/45</td>\n",
       "      <td>HARUICHI FURUDATE</td>\n",
       "      <td>Tapa dura</td>\n",
       "      <td>8,07</td>\n",
       "    </tr>\n",
       "    <tr>\n",
       "      <th>8</th>\n",
       "      <td>BERSERK MAXIMUM 6</td>\n",
       "      <td>KENTARO MIURA</td>\n",
       "      <td>Tapa blanda</td>\n",
       "      <td>16,10</td>\n",
       "    </tr>\n",
       "    <tr>\n",
       "      <th>9</th>\n",
       "      <td>COMO RAELIANA ACABO EN LA MANSION DEL DUQUE 3</td>\n",
       "      <td>WHALE y MILCHA</td>\n",
       "      <td>Tapa blanda</td>\n",
       "      <td>15,15</td>\n",
       "    </tr>\n",
       "  </tbody>\n",
       "</table>\n",
       "</div>"
      ],
      "text/plain": [
       "                                               title  \\\n",
       "0                          EL PEQUEÑO LIBRO DEL AMOR   \n",
       "1                  HEARTSTOPPER 5. CRECIENDO CONTIGO   \n",
       "2        LA VENTANA QUE SE ABRIÓ AL CERRAR LA PUERTA   \n",
       "3                                  EL VIAJE DE SHUNA   \n",
       "4                              EL COLOR DE LAS COSAS   \n",
       "5                                        MORTADELUXE   \n",
       "6  FOCUS - ALVARO MARTÍNEZ BUENO: THE NICE HOUSE ...   \n",
       "7                                  HAIKYU!! Nº 26/45   \n",
       "8                                  BERSERK MAXIMUM 6   \n",
       "9      COMO RAELIANA ACABO EN LA MANSION DEL DUQUE 3   \n",
       "\n",
       "                       author      version  price  \n",
       "0                    72 KILOS    Tapa dura  17,00  \n",
       "1                ALICE OSEMAN  Tapa blanda  15,15  \n",
       "2  SOFÍA ZARAGOZA (@SOYCLOTO)    Tapa dura  16,10  \n",
       "3              HAYAO MIYAZAKI    Tapa dura  22,80  \n",
       "4             MARTIN PANCHAUD    Tapa dura  28,40  \n",
       "5            FRANCISCO IBAÑEZ    Tapa dura  21,75  \n",
       "6             JAMES TYNION IV    Tapa dura  32,77  \n",
       "7           HARUICHI FURUDATE    Tapa dura   8,07  \n",
       "8               KENTARO MIURA  Tapa blanda  16,10  \n",
       "9              WHALE y MILCHA  Tapa blanda  15,15  "
      ]
     },
     "execution_count": 33,
     "metadata": {},
     "output_type": "execute_result"
    }
   ],
   "source": [
    "#Creating the DataFrame \n",
    "\n",
    "top_comics = pd.DataFrame(books3)\n",
    "top_comics.head(20)"
   ]
  },
  {
   "cell_type": "code",
   "execution_count": 34,
   "id": "29597229",
   "metadata": {},
   "outputs": [
    {
     "data": {
      "text/plain": [
       "['PREVENTA',\n",
       " 'Tapa dura',\n",
       " 'ALAS DE HIERRO (EMPIREO 2)',\n",
       " 'REBECCA YARROS',\n",
       " '23,90 €',\n",
       " '5%',\n",
       " '22,70 €',\n",
       " '¡ENVÍO GRATIS!',\n",
       " 'VER FICHA',\n",
       " 'AÑADIR',\n",
       " 'NUEVO',\n",
       " 'Tapa dura',\n",
       " 'TODOS LOS LUGARES QUE MANTUVIMOS EN SECRETO (EDICIÓN ESPECIAL POSTALES) 1ª EDICIÓN',\n",
       " 'INMA RUBIALES',\n",
       " '18,90 €',\n",
       " '5%',\n",
       " '17,95 €',\n",
       " 'VER FICHA',\n",
       " 'AÑADIR',\n",
       " 'PREVENTA',\n",
       " 'Otros',\n",
       " 'UN FUEGO EN LA CARNE (SAGA DE CARNE Y FUEGO 3)',\n",
       " 'JENNIFER L. ARMENTROUT',\n",
       " '19,90 €',\n",
       " '5%',\n",
       " '18,90 €',\n",
       " '¡ENVÍO GRATIS!',\n",
       " 'VER FICHA',\n",
       " 'AÑADIR',\n",
       " 'PREVENTA',\n",
       " 'Tapa blanda',\n",
       " 'CASA DE LLAMA Y SOMBRA (CIUDAD MEDIALUNA 3)',\n",
       " 'SARAH J. MAAS',\n",
       " '21,95 €',\n",
       " '5%',\n",
       " '20,85 €',\n",
       " '¡ENVÍO GRATIS!',\n",
       " 'VER FICHA',\n",
       " 'AÑADIR',\n",
       " 'PREVENTA',\n",
       " 'Tapa dura',\n",
       " 'UNA CORTE DE ROSAS Y ESPINAS. EDICIÓN ESPECIAL',\n",
       " 'SARAH J. MAAS',\n",
       " '22,95 €',\n",
       " '5%',\n",
       " '21,80 €',\n",
       " '¡ENVÍO GRATIS!',\n",
       " 'VER FICHA',\n",
       " 'AÑADIR',\n",
       " 'Tapa dura',\n",
       " 'ALAS DE SANGRE (EMPIREO 1)',\n",
       " 'REBECCA YARROS',\n",
       " '22,90 €',\n",
       " '5%',\n",
       " '21,75 €',\n",
       " '(207)',\n",
       " '¡ENVÍO GRATIS!',\n",
       " 'VER FICHA',\n",
       " 'AÑADIR',\n",
       " 'NUEVO',\n",
       " 'Tapa blanda',\n",
       " 'TWISTED 4. TWISTED LIES',\n",
       " 'ANA HUANG',\n",
       " '17,95 €',\n",
       " '5%',\n",
       " '17,05 €',\n",
       " 'VER FICHA',\n",
       " 'AÑADIR',\n",
       " 'PREVENTA',\n",
       " 'Tapa blanda',\n",
       " 'POWERLESS',\n",
       " 'LAUREN ROBERTS',\n",
       " '21,95 €',\n",
       " '5%',\n",
       " '20,85 €',\n",
       " '¡ENVÍO GRATIS!',\n",
       " 'VER FICHA',\n",
       " 'AÑADIR',\n",
       " 'PREVENTA',\n",
       " 'Otros',\n",
       " 'LA MALDICION DEL AMOR VERDADERO',\n",
       " 'STEPHANIE GARBER',\n",
       " '18,50 €',\n",
       " '5%',\n",
       " '17,57 €',\n",
       " 'VER FICHA',\n",
       " 'AÑADIR',\n",
       " 'Tapa blanda',\n",
       " 'MI VIDA CON LOS CHICOS WALTER',\n",
       " 'ALI NOVAK',\n",
       " '18,95 €',\n",
       " '5%',\n",
       " '18,00 €',\n",
       " '(3)',\n",
       " 'VER FICHA',\n",
       " 'AÑADIR']"
      ]
     },
     "execution_count": 34,
     "metadata": {},
     "output_type": "execute_result"
    }
   ],
   "source": [
    "#Juveniles category\n",
    "\n",
    "juveniles = categories[3].text.split(\"\\n\")\n",
    "juveniles"
   ]
  },
  {
   "cell_type": "code",
   "execution_count": 35,
   "id": "1d9ed3ff",
   "metadata": {},
   "outputs": [
    {
     "data": {
      "text/plain": [
       "'ALAS DE HIERRO (EMPIREO 2)'"
      ]
     },
     "execution_count": 35,
     "metadata": {},
     "output_type": "execute_result"
    }
   ],
   "source": [
    "#Getting the book title\n",
    "\n",
    "title = categories[3].find_element(By.CLASS_NAME, \"compact-product-title\").text\n",
    "title"
   ]
  },
  {
   "cell_type": "code",
   "execution_count": 36,
   "id": "0420fce4",
   "metadata": {},
   "outputs": [
    {
     "data": {
      "text/plain": [
       "'REBECCA YARROS'"
      ]
     },
     "execution_count": 36,
     "metadata": {},
     "output_type": "execute_result"
    }
   ],
   "source": [
    "#Getting the book author\n",
    "\n",
    "author = categories[3].find_element(By.CLASS_NAME, \"compact-product-authors.text-body-2.grey-darken-1\").text\n",
    "author "
   ]
  },
  {
   "cell_type": "code",
   "execution_count": 37,
   "id": "f074c84e",
   "metadata": {},
   "outputs": [
    {
     "data": {
      "text/plain": [
       "'22,70'"
      ]
     },
     "execution_count": 37,
     "metadata": {},
     "output_type": "execute_result"
    }
   ],
   "source": [
    "#Getting the book price\n",
    "\n",
    "price = categories[3].find_element(By.CLASS_NAME, \"main-price\").text\n",
    "price = price.replace(\"\\n\", \".\").replace(\"€\", \"\").strip()\n",
    "price"
   ]
  },
  {
   "cell_type": "code",
   "execution_count": 38,
   "id": "7a1d4f50",
   "metadata": {},
   "outputs": [
    {
     "data": {
      "text/plain": [
       "'Tapa dura'"
      ]
     },
     "execution_count": 38,
     "metadata": {},
     "output_type": "execute_result"
    }
   ],
   "source": [
    "#Getting the book version\n",
    "\n",
    "version = categories[3].find_element(By.CLASS_NAME, \"feature\").text\n",
    "version"
   ]
  },
  {
   "cell_type": "code",
   "execution_count": 39,
   "id": "08eebea0",
   "metadata": {},
   "outputs": [],
   "source": [
    "#Gethering all the details we scraped into one list of dictionaries\n",
    "\n",
    "categories = driver.find_elements(By.CLASS_NAME, 'swiper-container')\n",
    "\n",
    "len(categories)\n",
    "\n",
    "juveniles = categories[3].text.split(\"\\n\")\n",
    "\n",
    "title = categories[3].find_element(By.CLASS_NAME, \"compact-product-title\").text\n",
    "author = categories[3].find_element(By.CLASS_NAME, \"compact-product-authors.text-body-2.grey-darken-1\").text\n",
    "version = categories[3].find_element(By.CLASS_NAME, \"feature\").text\n",
    "price = categories[3].find_element(By.CLASS_NAME, \"main-price\").text\n",
    "price = price.replace(\"\\n\", \".\").replace(\"€\", \"\").strip()\n",
    "\n",
    "books4 = []\n",
    "\n",
    "# Iterate over elements inside categories[3]\n",
    "books_elements = categories[3].find_elements(By.CLASS_NAME, \"compact-product\")\n",
    "for p in books_elements:\n",
    "    title = p.find_element(By.CLASS_NAME, \"compact-product-title\").text\n",
    "    author = p.find_element(By.CLASS_NAME, \"compact-product-authors.text-body-2.grey-darken-1\").text\n",
    "    version = p.find_element(By.CLASS_NAME, \"feature\").text\n",
    "    price = p.find_element(By.CLASS_NAME, \"main-price\").text\n",
    "    price = price.replace(\"\\n\", \".\").replace(\"€\", \"\").strip()\n",
    "    dictio = {'title': title, 'author': author, 'version': version, 'price': price}\n",
    "    books4.append(dictio)"
   ]
  },
  {
   "cell_type": "code",
   "execution_count": 40,
   "id": "58093247",
   "metadata": {},
   "outputs": [
    {
     "data": {
      "text/plain": [
       "[{'title': 'ALAS DE HIERRO (EMPIREO 2)',\n",
       "  'author': 'REBECCA YARROS',\n",
       "  'version': 'Tapa dura',\n",
       "  'price': '22,70'},\n",
       " {'title': 'TODOS LOS LUGARES QUE MANTUVIMOS EN SECRETO (EDICIÓN ESPECIAL POSTALES) 1ª EDICIÓN',\n",
       "  'author': 'INMA RUBIALES',\n",
       "  'version': 'Tapa dura',\n",
       "  'price': '17,95'},\n",
       " {'title': 'UN FUEGO EN LA CARNE (SAGA DE CARNE Y FUEGO 3)',\n",
       "  'author': 'JENNIFER L. ARMENTROUT',\n",
       "  'version': 'Otros',\n",
       "  'price': '18,90'},\n",
       " {'title': 'CASA DE LLAMA Y SOMBRA (CIUDAD MEDIALUNA 3)',\n",
       "  'author': 'SARAH J. MAAS',\n",
       "  'version': 'Tapa blanda',\n",
       "  'price': '20,85'},\n",
       " {'title': 'UNA CORTE DE ROSAS Y ESPINAS. EDICIÓN ESPECIAL',\n",
       "  'author': 'SARAH J. MAAS',\n",
       "  'version': 'Tapa dura',\n",
       "  'price': '21,80'},\n",
       " {'title': 'ALAS DE SANGRE (EMPIREO 1)',\n",
       "  'author': 'REBECCA YARROS',\n",
       "  'version': 'Tapa dura',\n",
       "  'price': '21,75'},\n",
       " {'title': 'TWISTED 4. TWISTED LIES',\n",
       "  'author': 'ANA HUANG',\n",
       "  'version': 'Tapa blanda',\n",
       "  'price': '17,05'},\n",
       " {'title': 'POWERLESS',\n",
       "  'author': 'LAUREN ROBERTS',\n",
       "  'version': 'Tapa blanda',\n",
       "  'price': '20,85'},\n",
       " {'title': 'LA MALDICION DEL AMOR VERDADERO',\n",
       "  'author': 'STEPHANIE GARBER',\n",
       "  'version': 'Otros',\n",
       "  'price': '17,57'},\n",
       " {'title': 'MI VIDA CON LOS CHICOS WALTER',\n",
       "  'author': 'ALI NOVAK',\n",
       "  'version': 'Tapa blanda',\n",
       "  'price': '18,00'}]"
      ]
     },
     "execution_count": 40,
     "metadata": {},
     "output_type": "execute_result"
    }
   ],
   "source": [
    "#Showing the list\n",
    "\n",
    "books4"
   ]
  },
  {
   "cell_type": "code",
   "execution_count": 41,
   "id": "71243600",
   "metadata": {},
   "outputs": [
    {
     "data": {
      "text/html": [
       "<div>\n",
       "<style scoped>\n",
       "    .dataframe tbody tr th:only-of-type {\n",
       "        vertical-align: middle;\n",
       "    }\n",
       "\n",
       "    .dataframe tbody tr th {\n",
       "        vertical-align: top;\n",
       "    }\n",
       "\n",
       "    .dataframe thead th {\n",
       "        text-align: right;\n",
       "    }\n",
       "</style>\n",
       "<table border=\"1\" class=\"dataframe\">\n",
       "  <thead>\n",
       "    <tr style=\"text-align: right;\">\n",
       "      <th></th>\n",
       "      <th>title</th>\n",
       "      <th>author</th>\n",
       "      <th>version</th>\n",
       "      <th>price</th>\n",
       "    </tr>\n",
       "  </thead>\n",
       "  <tbody>\n",
       "    <tr>\n",
       "      <th>0</th>\n",
       "      <td>ALAS DE HIERRO (EMPIREO 2)</td>\n",
       "      <td>REBECCA YARROS</td>\n",
       "      <td>Tapa dura</td>\n",
       "      <td>22,70</td>\n",
       "    </tr>\n",
       "    <tr>\n",
       "      <th>1</th>\n",
       "      <td>TODOS LOS LUGARES QUE MANTUVIMOS EN SECRETO (E...</td>\n",
       "      <td>INMA RUBIALES</td>\n",
       "      <td>Tapa dura</td>\n",
       "      <td>17,95</td>\n",
       "    </tr>\n",
       "    <tr>\n",
       "      <th>2</th>\n",
       "      <td>UN FUEGO EN LA CARNE (SAGA DE CARNE Y FUEGO 3)</td>\n",
       "      <td>JENNIFER L. ARMENTROUT</td>\n",
       "      <td>Otros</td>\n",
       "      <td>18,90</td>\n",
       "    </tr>\n",
       "    <tr>\n",
       "      <th>3</th>\n",
       "      <td>CASA DE LLAMA Y SOMBRA (CIUDAD MEDIALUNA 3)</td>\n",
       "      <td>SARAH J. MAAS</td>\n",
       "      <td>Tapa blanda</td>\n",
       "      <td>20,85</td>\n",
       "    </tr>\n",
       "    <tr>\n",
       "      <th>4</th>\n",
       "      <td>UNA CORTE DE ROSAS Y ESPINAS. EDICIÓN ESPECIAL</td>\n",
       "      <td>SARAH J. MAAS</td>\n",
       "      <td>Tapa dura</td>\n",
       "      <td>21,80</td>\n",
       "    </tr>\n",
       "    <tr>\n",
       "      <th>5</th>\n",
       "      <td>ALAS DE SANGRE (EMPIREO 1)</td>\n",
       "      <td>REBECCA YARROS</td>\n",
       "      <td>Tapa dura</td>\n",
       "      <td>21,75</td>\n",
       "    </tr>\n",
       "    <tr>\n",
       "      <th>6</th>\n",
       "      <td>TWISTED 4. TWISTED LIES</td>\n",
       "      <td>ANA HUANG</td>\n",
       "      <td>Tapa blanda</td>\n",
       "      <td>17,05</td>\n",
       "    </tr>\n",
       "    <tr>\n",
       "      <th>7</th>\n",
       "      <td>POWERLESS</td>\n",
       "      <td>LAUREN ROBERTS</td>\n",
       "      <td>Tapa blanda</td>\n",
       "      <td>20,85</td>\n",
       "    </tr>\n",
       "    <tr>\n",
       "      <th>8</th>\n",
       "      <td>LA MALDICION DEL AMOR VERDADERO</td>\n",
       "      <td>STEPHANIE GARBER</td>\n",
       "      <td>Otros</td>\n",
       "      <td>17,57</td>\n",
       "    </tr>\n",
       "    <tr>\n",
       "      <th>9</th>\n",
       "      <td>MI VIDA CON LOS CHICOS WALTER</td>\n",
       "      <td>ALI NOVAK</td>\n",
       "      <td>Tapa blanda</td>\n",
       "      <td>18,00</td>\n",
       "    </tr>\n",
       "  </tbody>\n",
       "</table>\n",
       "</div>"
      ],
      "text/plain": [
       "                                               title                  author  \\\n",
       "0                         ALAS DE HIERRO (EMPIREO 2)          REBECCA YARROS   \n",
       "1  TODOS LOS LUGARES QUE MANTUVIMOS EN SECRETO (E...           INMA RUBIALES   \n",
       "2     UN FUEGO EN LA CARNE (SAGA DE CARNE Y FUEGO 3)  JENNIFER L. ARMENTROUT   \n",
       "3        CASA DE LLAMA Y SOMBRA (CIUDAD MEDIALUNA 3)           SARAH J. MAAS   \n",
       "4     UNA CORTE DE ROSAS Y ESPINAS. EDICIÓN ESPECIAL           SARAH J. MAAS   \n",
       "5                         ALAS DE SANGRE (EMPIREO 1)          REBECCA YARROS   \n",
       "6                            TWISTED 4. TWISTED LIES               ANA HUANG   \n",
       "7                                          POWERLESS          LAUREN ROBERTS   \n",
       "8                    LA MALDICION DEL AMOR VERDADERO        STEPHANIE GARBER   \n",
       "9                      MI VIDA CON LOS CHICOS WALTER               ALI NOVAK   \n",
       "\n",
       "       version  price  \n",
       "0    Tapa dura  22,70  \n",
       "1    Tapa dura  17,95  \n",
       "2        Otros  18,90  \n",
       "3  Tapa blanda  20,85  \n",
       "4    Tapa dura  21,80  \n",
       "5    Tapa dura  21,75  \n",
       "6  Tapa blanda  17,05  \n",
       "7  Tapa blanda  20,85  \n",
       "8        Otros  17,57  \n",
       "9  Tapa blanda  18,00  "
      ]
     },
     "execution_count": 41,
     "metadata": {},
     "output_type": "execute_result"
    }
   ],
   "source": [
    "#Creating the DataFrame \n",
    "\n",
    "top_juveniles = pd.DataFrame(books4)\n",
    "top_juveniles.head(20)"
   ]
  },
  {
   "cell_type": "code",
   "execution_count": 42,
   "id": "6dbc5da5",
   "metadata": {},
   "outputs": [
    {
     "data": {
      "text/plain": [
       "['Tapa blanda',\n",
       " 'LA CHICA DEL VERANO (NOVELA)',\n",
       " 'LA VECINA RUBIA',\n",
       " '19,90 €',\n",
       " '5%',\n",
       " '18,90 €',\n",
       " '(74)',\n",
       " '¡ENVÍO GRATIS!',\n",
       " 'VER FICHA',\n",
       " 'AÑADIR',\n",
       " 'Tapa dura',\n",
       " 'EL PROBLEMA FINAL',\n",
       " 'ARTURO PEREZ REVERTE',\n",
       " '21,90 €',\n",
       " '5%',\n",
       " '20,80 €',\n",
       " '(136)',\n",
       " '¡ENVÍO GRATIS!',\n",
       " 'VER FICHA',\n",
       " 'AÑADIR',\n",
       " 'Tapa dura',\n",
       " 'ALAS DE SANGRE (EMPIREO 1)',\n",
       " 'REBECCA YARROS',\n",
       " '22,90 €',\n",
       " '5%',\n",
       " '21,75 €',\n",
       " '(207)',\n",
       " '¡ENVÍO GRATIS!',\n",
       " 'VER FICHA',\n",
       " 'AÑADIR',\n",
       " 'Tapa blanda',\n",
       " 'EL CUCO DE CRISTAL',\n",
       " 'JAVIER CASTILLO',\n",
       " '20,90 €',\n",
       " '5%',\n",
       " '19,85 €',\n",
       " '(195)',\n",
       " '¡ENVÍO GRATIS!',\n",
       " 'VER FICHA',\n",
       " 'AÑADIR',\n",
       " 'Libro premiado',\n",
       " 'Tapa dura',\n",
       " 'LAS HIJAS DE LA CRIADA (PREMIO PLANETA 2023)',\n",
       " 'SONSOLES ONEGA',\n",
       " '22,90 €',\n",
       " '5%',\n",
       " '21,75 €',\n",
       " '(92)',\n",
       " '¡ENVÍO GRATIS!',\n",
       " 'VER FICHA',\n",
       " 'AÑADIR',\n",
       " 'PREVENTA',\n",
       " 'Tapa dura',\n",
       " 'ALAS DE HIERRO (EMPIREO 2)',\n",
       " 'REBECCA YARROS',\n",
       " '23,90 €',\n",
       " '5%',\n",
       " '22,70 €',\n",
       " '¡ENVÍO GRATIS!',\n",
       " 'VER FICHA',\n",
       " 'AÑADIR',\n",
       " 'Tapa dura',\n",
       " 'MALDITA ROMA (SERIE JULIO CESAR 2)',\n",
       " 'SANTIAGO POSTEGUILLO',\n",
       " '24,90 €',\n",
       " '5%',\n",
       " '23,65 €',\n",
       " '(60)',\n",
       " '¡ENVÍO GRATIS!',\n",
       " 'VER FICHA',\n",
       " 'AÑADIR',\n",
       " 'Tapa dura',\n",
       " 'EL ANGEL DE LA CIUDAD (SERIE KRAKEN 2)',\n",
       " 'EVA GARCIA SAENZ DE URTURI',\n",
       " '21,90 €',\n",
       " '5%',\n",
       " '20,80 €',\n",
       " '(84)',\n",
       " '¡ENVÍO GRATIS!',\n",
       " 'VER FICHA',\n",
       " 'AÑADIR',\n",
       " 'Tapa dura',\n",
       " 'LA ARMADURA DE LA LUZ (SAGA LOS PILARES DE LA TIERRA 5)',\n",
       " 'KEN FOLLETT',\n",
       " '24,90 €',\n",
       " '5%',\n",
       " '23,65 €',\n",
       " '(48)',\n",
       " '¡ENVÍO GRATIS!',\n",
       " 'VER FICHA',\n",
       " 'AÑADIR',\n",
       " 'Tapa dura',\n",
       " 'TODO VUELVE (SERIE TODO ARDE 2)',\n",
       " 'JUAN GOMEZ JURADO',\n",
       " '22,90 €',\n",
       " '5%',\n",
       " '21,75 €',\n",
       " '(71)',\n",
       " '¡ENVÍO GRATIS!',\n",
       " 'VER FICHA',\n",
       " 'AÑADIR']"
      ]
     },
     "execution_count": 42,
     "metadata": {},
     "output_type": "execute_result"
    }
   ],
   "source": [
    "#Most read Fiction category\n",
    "\n",
    "ficcion_mas_leido = categories[5].text.split(\"\\n\")\n",
    "ficcion_mas_leido"
   ]
  },
  {
   "cell_type": "code",
   "execution_count": 43,
   "id": "a3309203",
   "metadata": {},
   "outputs": [
    {
     "data": {
      "text/plain": [
       "'LA CHICA DEL VERANO (NOVELA)'"
      ]
     },
     "execution_count": 43,
     "metadata": {},
     "output_type": "execute_result"
    }
   ],
   "source": [
    "#Getting the book title\n",
    "\n",
    "title = categories[5].find_element(By.CLASS_NAME, \"compact-product-title\").text\n",
    "title"
   ]
  },
  {
   "cell_type": "code",
   "execution_count": 44,
   "id": "fbd30454",
   "metadata": {},
   "outputs": [
    {
     "data": {
      "text/plain": [
       "'LA VECINA RUBIA'"
      ]
     },
     "execution_count": 44,
     "metadata": {},
     "output_type": "execute_result"
    }
   ],
   "source": [
    "#Getting the book author\n",
    "\n",
    "author = categories[5].find_element(By.CLASS_NAME, \"compact-product-authors.text-body-2.grey-darken-1\").text\n",
    "author "
   ]
  },
  {
   "cell_type": "code",
   "execution_count": 45,
   "id": "7795914e",
   "metadata": {},
   "outputs": [
    {
     "data": {
      "text/plain": [
       "'18,90'"
      ]
     },
     "execution_count": 45,
     "metadata": {},
     "output_type": "execute_result"
    }
   ],
   "source": [
    "#Getting the book price\n",
    "\n",
    "price = categories[5].find_element(By.CLASS_NAME, \"main-price\").text\n",
    "price = price.replace(\"\\n\", \".\").replace(\"€\", \"\").strip()\n",
    "price"
   ]
  },
  {
   "cell_type": "code",
   "execution_count": 46,
   "id": "3ff459da",
   "metadata": {},
   "outputs": [
    {
     "data": {
      "text/plain": [
       "'Tapa blanda'"
      ]
     },
     "execution_count": 46,
     "metadata": {},
     "output_type": "execute_result"
    }
   ],
   "source": [
    "#Getting the book version\n",
    "\n",
    "version = categories[5].find_element(By.CLASS_NAME, \"feature\").text\n",
    "version"
   ]
  },
  {
   "cell_type": "code",
   "execution_count": 47,
   "id": "de9109bd",
   "metadata": {},
   "outputs": [],
   "source": [
    "#Gethering all the details we scraped into one list of dictionaries\n",
    "\n",
    "categories = driver.find_elements(By.CLASS_NAME, 'swiper-container')\n",
    "\n",
    "len(categories)\n",
    "\n",
    "ficcion_mas_leido = categories[5].text.split(\"\\n\")\n",
    "\n",
    "title = categories[5].find_element(By.CLASS_NAME, \"compact-product-title\").text\n",
    "author = categories[5].find_element(By.CLASS_NAME, \"compact-product-authors.text-body-2.grey-darken-1\").text\n",
    "version = categories[5].find_element(By.CLASS_NAME, \"feature\").text\n",
    "price = categories[5].find_element(By.CLASS_NAME, \"main-price\").text\n",
    "price = price.replace(\"\\n\", \".\").replace(\"€\", \"\").strip()\n",
    "\n",
    "books5 = []\n",
    "\n",
    "# Iterate over elements inside categories[5]\n",
    "books_elements = categories[5].find_elements(By.CLASS_NAME, \"compact-product\")\n",
    "for p in books_elements:\n",
    "    title = p.find_element(By.CLASS_NAME, \"compact-product-title\").text\n",
    "    author = p.find_element(By.CLASS_NAME, \"compact-product-authors.text-body-2.grey-darken-1\").text\n",
    "    version = p.find_element(By.CLASS_NAME, \"feature\").text\n",
    "    price = p.find_element(By.CLASS_NAME, \"main-price\").text\n",
    "    price = price.replace(\"\\n\", \".\").replace(\"€\", \"\").strip()\n",
    "    dictio = {'title': title, 'author': author, 'version': version, 'price': price}\n",
    "    books5.append(dictio)"
   ]
  },
  {
   "cell_type": "code",
   "execution_count": 48,
   "id": "e0369660",
   "metadata": {},
   "outputs": [
    {
     "data": {
      "text/plain": [
       "[{'title': 'LA CHICA DEL VERANO (NOVELA)',\n",
       "  'author': 'LA VECINA RUBIA',\n",
       "  'version': 'Tapa blanda',\n",
       "  'price': '18,90'},\n",
       " {'title': 'EL PROBLEMA FINAL',\n",
       "  'author': 'ARTURO PEREZ REVERTE',\n",
       "  'version': 'Tapa dura',\n",
       "  'price': '20,80'},\n",
       " {'title': 'ALAS DE SANGRE (EMPIREO 1)',\n",
       "  'author': 'REBECCA YARROS',\n",
       "  'version': 'Tapa dura',\n",
       "  'price': '21,75'},\n",
       " {'title': 'EL CUCO DE CRISTAL',\n",
       "  'author': 'JAVIER CASTILLO',\n",
       "  'version': 'Tapa blanda',\n",
       "  'price': '19,85'},\n",
       " {'title': 'LAS HIJAS DE LA CRIADA (PREMIO PLANETA 2023)',\n",
       "  'author': 'SONSOLES ONEGA',\n",
       "  'version': 'Tapa dura',\n",
       "  'price': '21,75'},\n",
       " {'title': 'ALAS DE HIERRO (EMPIREO 2)',\n",
       "  'author': 'REBECCA YARROS',\n",
       "  'version': 'Tapa dura',\n",
       "  'price': '22,70'},\n",
       " {'title': 'MALDITA ROMA (SERIE JULIO CESAR 2)',\n",
       "  'author': 'SANTIAGO POSTEGUILLO',\n",
       "  'version': 'Tapa dura',\n",
       "  'price': '23,65'},\n",
       " {'title': 'EL ANGEL DE LA CIUDAD (SERIE KRAKEN 2)',\n",
       "  'author': 'EVA GARCIA SAENZ DE URTURI',\n",
       "  'version': 'Tapa dura',\n",
       "  'price': '20,80'},\n",
       " {'title': 'LA ARMADURA DE LA LUZ (SAGA LOS PILARES DE LA TIERRA 5)',\n",
       "  'author': 'KEN FOLLETT',\n",
       "  'version': 'Tapa dura',\n",
       "  'price': '23,65'},\n",
       " {'title': 'TODO VUELVE (SERIE TODO ARDE 2)',\n",
       "  'author': 'JUAN GOMEZ JURADO',\n",
       "  'version': 'Tapa dura',\n",
       "  'price': '21,75'}]"
      ]
     },
     "execution_count": 48,
     "metadata": {},
     "output_type": "execute_result"
    }
   ],
   "source": [
    "#Showing the list\n",
    "\n",
    "books5"
   ]
  },
  {
   "cell_type": "code",
   "execution_count": 49,
   "id": "323660d3",
   "metadata": {},
   "outputs": [
    {
     "data": {
      "text/html": [
       "<div>\n",
       "<style scoped>\n",
       "    .dataframe tbody tr th:only-of-type {\n",
       "        vertical-align: middle;\n",
       "    }\n",
       "\n",
       "    .dataframe tbody tr th {\n",
       "        vertical-align: top;\n",
       "    }\n",
       "\n",
       "    .dataframe thead th {\n",
       "        text-align: right;\n",
       "    }\n",
       "</style>\n",
       "<table border=\"1\" class=\"dataframe\">\n",
       "  <thead>\n",
       "    <tr style=\"text-align: right;\">\n",
       "      <th></th>\n",
       "      <th>title</th>\n",
       "      <th>author</th>\n",
       "      <th>version</th>\n",
       "      <th>price</th>\n",
       "    </tr>\n",
       "  </thead>\n",
       "  <tbody>\n",
       "    <tr>\n",
       "      <th>0</th>\n",
       "      <td>LA CHICA DEL VERANO (NOVELA)</td>\n",
       "      <td>LA VECINA RUBIA</td>\n",
       "      <td>Tapa blanda</td>\n",
       "      <td>18,90</td>\n",
       "    </tr>\n",
       "    <tr>\n",
       "      <th>1</th>\n",
       "      <td>EL PROBLEMA FINAL</td>\n",
       "      <td>ARTURO PEREZ REVERTE</td>\n",
       "      <td>Tapa dura</td>\n",
       "      <td>20,80</td>\n",
       "    </tr>\n",
       "    <tr>\n",
       "      <th>2</th>\n",
       "      <td>ALAS DE SANGRE (EMPIREO 1)</td>\n",
       "      <td>REBECCA YARROS</td>\n",
       "      <td>Tapa dura</td>\n",
       "      <td>21,75</td>\n",
       "    </tr>\n",
       "    <tr>\n",
       "      <th>3</th>\n",
       "      <td>EL CUCO DE CRISTAL</td>\n",
       "      <td>JAVIER CASTILLO</td>\n",
       "      <td>Tapa blanda</td>\n",
       "      <td>19,85</td>\n",
       "    </tr>\n",
       "    <tr>\n",
       "      <th>4</th>\n",
       "      <td>LAS HIJAS DE LA CRIADA (PREMIO PLANETA 2023)</td>\n",
       "      <td>SONSOLES ONEGA</td>\n",
       "      <td>Tapa dura</td>\n",
       "      <td>21,75</td>\n",
       "    </tr>\n",
       "    <tr>\n",
       "      <th>5</th>\n",
       "      <td>ALAS DE HIERRO (EMPIREO 2)</td>\n",
       "      <td>REBECCA YARROS</td>\n",
       "      <td>Tapa dura</td>\n",
       "      <td>22,70</td>\n",
       "    </tr>\n",
       "    <tr>\n",
       "      <th>6</th>\n",
       "      <td>MALDITA ROMA (SERIE JULIO CESAR 2)</td>\n",
       "      <td>SANTIAGO POSTEGUILLO</td>\n",
       "      <td>Tapa dura</td>\n",
       "      <td>23,65</td>\n",
       "    </tr>\n",
       "    <tr>\n",
       "      <th>7</th>\n",
       "      <td>EL ANGEL DE LA CIUDAD (SERIE KRAKEN 2)</td>\n",
       "      <td>EVA GARCIA SAENZ DE URTURI</td>\n",
       "      <td>Tapa dura</td>\n",
       "      <td>20,80</td>\n",
       "    </tr>\n",
       "    <tr>\n",
       "      <th>8</th>\n",
       "      <td>LA ARMADURA DE LA LUZ (SAGA LOS PILARES DE LA ...</td>\n",
       "      <td>KEN FOLLETT</td>\n",
       "      <td>Tapa dura</td>\n",
       "      <td>23,65</td>\n",
       "    </tr>\n",
       "    <tr>\n",
       "      <th>9</th>\n",
       "      <td>TODO VUELVE (SERIE TODO ARDE 2)</td>\n",
       "      <td>JUAN GOMEZ JURADO</td>\n",
       "      <td>Tapa dura</td>\n",
       "      <td>21,75</td>\n",
       "    </tr>\n",
       "  </tbody>\n",
       "</table>\n",
       "</div>"
      ],
      "text/plain": [
       "                                               title  \\\n",
       "0                       LA CHICA DEL VERANO (NOVELA)   \n",
       "1                                  EL PROBLEMA FINAL   \n",
       "2                         ALAS DE SANGRE (EMPIREO 1)   \n",
       "3                                 EL CUCO DE CRISTAL   \n",
       "4       LAS HIJAS DE LA CRIADA (PREMIO PLANETA 2023)   \n",
       "5                         ALAS DE HIERRO (EMPIREO 2)   \n",
       "6                 MALDITA ROMA (SERIE JULIO CESAR 2)   \n",
       "7             EL ANGEL DE LA CIUDAD (SERIE KRAKEN 2)   \n",
       "8  LA ARMADURA DE LA LUZ (SAGA LOS PILARES DE LA ...   \n",
       "9                    TODO VUELVE (SERIE TODO ARDE 2)   \n",
       "\n",
       "                       author      version  price  \n",
       "0             LA VECINA RUBIA  Tapa blanda  18,90  \n",
       "1        ARTURO PEREZ REVERTE    Tapa dura  20,80  \n",
       "2              REBECCA YARROS    Tapa dura  21,75  \n",
       "3             JAVIER CASTILLO  Tapa blanda  19,85  \n",
       "4              SONSOLES ONEGA    Tapa dura  21,75  \n",
       "5              REBECCA YARROS    Tapa dura  22,70  \n",
       "6        SANTIAGO POSTEGUILLO    Tapa dura  23,65  \n",
       "7  EVA GARCIA SAENZ DE URTURI    Tapa dura  20,80  \n",
       "8                 KEN FOLLETT    Tapa dura  23,65  \n",
       "9           JUAN GOMEZ JURADO    Tapa dura  21,75  "
      ]
     },
     "execution_count": 49,
     "metadata": {},
     "output_type": "execute_result"
    }
   ],
   "source": [
    "#Creating the DataFrame\n",
    "\n",
    "top_ficcion_mas_leido = pd.DataFrame(books5)\n",
    "top_ficcion_mas_leido.head(20)"
   ]
  },
  {
   "cell_type": "code",
   "execution_count": 50,
   "id": "afd204fe",
   "metadata": {},
   "outputs": [],
   "source": [
    "#Saving DataFrames I've created to .csv for further works\n",
    "\n",
    "top_ficcion.to_csv('top_ficcion.csv', index=False)\n",
    "top_no_ficcion.to_csv('top_no_ficcion.csv', index=False)\n",
    "top_comics.to_csv('top_comics.csv', index=False)\n",
    "top_juveniles.to_csv('top_juveniles.csv', index=False)\n",
    "top_ficcion_mas_leido.to_csv('top_ficcion_mas_leido.csv', index=False)\n"
   ]
  }
 ],
 "metadata": {
  "kernelspec": {
   "display_name": "Python 3 (ipykernel)",
   "language": "python",
   "name": "python3"
  },
  "language_info": {
   "codemirror_mode": {
    "name": "ipython",
    "version": 3
   },
   "file_extension": ".py",
   "mimetype": "text/x-python",
   "name": "python",
   "nbconvert_exporter": "python",
   "pygments_lexer": "ipython3",
   "version": "3.11.5"
  }
 },
 "nbformat": 4,
 "nbformat_minor": 5
}
